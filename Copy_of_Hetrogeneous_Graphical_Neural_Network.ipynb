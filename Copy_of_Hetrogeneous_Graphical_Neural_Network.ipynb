{
  "nbformat": 4,
  "nbformat_minor": 0,
  "metadata": {
    "colab": {
      "provenance": []
    },
    "kernelspec": {
      "name": "python3",
      "display_name": "Python 3"
    },
    "language_info": {
      "name": "python"
    }
  },
  "cells": [
    {
      "cell_type": "code",
      "source": [
        "from google.colab import drive\n",
        "drive.mount('/content/drive')\n"
      ],
      "metadata": {
        "colab": {
          "base_uri": "https://localhost:8080/"
        },
        "id": "l16kMXfHSTnF",
        "outputId": "3a79d79b-cc23-408f-8ab0-c55971415400"
      },
      "execution_count": null,
      "outputs": [
        {
          "output_type": "stream",
          "name": "stdout",
          "text": [
            "Mounted at /content/drive\n"
          ]
        }
      ]
    },
    {
      "cell_type": "code",
      "source": [
        "# Install basic libraries\n",
        "!pip install pandas networkx matplotlib\n",
        "\n",
        "# Install PyTorch and PyTorch Geometric\n",
        "!pip install torch torch-geometric\n"
      ],
      "metadata": {
        "colab": {
          "base_uri": "https://localhost:8080/"
        },
        "id": "eX89MKvaSiMf",
        "outputId": "e0c87e36-a756-430b-a847-1c9a0717fb52"
      },
      "execution_count": null,
      "outputs": [
        {
          "output_type": "stream",
          "name": "stdout",
          "text": [
            "Requirement already satisfied: pandas in /usr/local/lib/python3.10/dist-packages (2.1.4)\n",
            "Requirement already satisfied: networkx in /usr/local/lib/python3.10/dist-packages (3.3)\n",
            "Requirement already satisfied: matplotlib in /usr/local/lib/python3.10/dist-packages (3.7.1)\n",
            "Requirement already satisfied: numpy<2,>=1.22.4 in /usr/local/lib/python3.10/dist-packages (from pandas) (1.26.4)\n",
            "Requirement already satisfied: python-dateutil>=2.8.2 in /usr/local/lib/python3.10/dist-packages (from pandas) (2.8.2)\n",
            "Requirement already satisfied: pytz>=2020.1 in /usr/local/lib/python3.10/dist-packages (from pandas) (2024.2)\n",
            "Requirement already satisfied: tzdata>=2022.1 in /usr/local/lib/python3.10/dist-packages (from pandas) (2024.1)\n",
            "Requirement already satisfied: contourpy>=1.0.1 in /usr/local/lib/python3.10/dist-packages (from matplotlib) (1.3.0)\n",
            "Requirement already satisfied: cycler>=0.10 in /usr/local/lib/python3.10/dist-packages (from matplotlib) (0.12.1)\n",
            "Requirement already satisfied: fonttools>=4.22.0 in /usr/local/lib/python3.10/dist-packages (from matplotlib) (4.53.1)\n",
            "Requirement already satisfied: kiwisolver>=1.0.1 in /usr/local/lib/python3.10/dist-packages (from matplotlib) (1.4.7)\n",
            "Requirement already satisfied: packaging>=20.0 in /usr/local/lib/python3.10/dist-packages (from matplotlib) (24.1)\n",
            "Requirement already satisfied: pillow>=6.2.0 in /usr/local/lib/python3.10/dist-packages (from matplotlib) (10.4.0)\n",
            "Requirement already satisfied: pyparsing>=2.3.1 in /usr/local/lib/python3.10/dist-packages (from matplotlib) (3.1.4)\n",
            "Requirement already satisfied: six>=1.5 in /usr/local/lib/python3.10/dist-packages (from python-dateutil>=2.8.2->pandas) (1.16.0)\n",
            "Requirement already satisfied: torch in /usr/local/lib/python3.10/dist-packages (2.4.1+cu121)\n",
            "Collecting torch-geometric\n",
            "  Downloading torch_geometric-2.6.1-py3-none-any.whl.metadata (63 kB)\n",
            "\u001b[2K     \u001b[90m━━━━━━━━━━━━━━━━━━━━━━━━━━━━━━━━━━━━━━━━\u001b[0m \u001b[32m63.1/63.1 kB\u001b[0m \u001b[31m1.7 MB/s\u001b[0m eta \u001b[36m0:00:00\u001b[0m\n",
            "\u001b[?25hRequirement already satisfied: filelock in /usr/local/lib/python3.10/dist-packages (from torch) (3.16.1)\n",
            "Requirement already satisfied: typing-extensions>=4.8.0 in /usr/local/lib/python3.10/dist-packages (from torch) (4.12.2)\n",
            "Requirement already satisfied: sympy in /usr/local/lib/python3.10/dist-packages (from torch) (1.13.3)\n",
            "Requirement already satisfied: networkx in /usr/local/lib/python3.10/dist-packages (from torch) (3.3)\n",
            "Requirement already satisfied: jinja2 in /usr/local/lib/python3.10/dist-packages (from torch) (3.1.4)\n",
            "Requirement already satisfied: fsspec in /usr/local/lib/python3.10/dist-packages (from torch) (2024.6.1)\n",
            "Requirement already satisfied: aiohttp in /usr/local/lib/python3.10/dist-packages (from torch-geometric) (3.10.5)\n",
            "Requirement already satisfied: numpy in /usr/local/lib/python3.10/dist-packages (from torch-geometric) (1.26.4)\n",
            "Requirement already satisfied: psutil>=5.8.0 in /usr/local/lib/python3.10/dist-packages (from torch-geometric) (5.9.5)\n",
            "Requirement already satisfied: pyparsing in /usr/local/lib/python3.10/dist-packages (from torch-geometric) (3.1.4)\n",
            "Requirement already satisfied: requests in /usr/local/lib/python3.10/dist-packages (from torch-geometric) (2.32.3)\n",
            "Requirement already satisfied: tqdm in /usr/local/lib/python3.10/dist-packages (from torch-geometric) (4.66.5)\n",
            "Requirement already satisfied: aiohappyeyeballs>=2.3.0 in /usr/local/lib/python3.10/dist-packages (from aiohttp->torch-geometric) (2.4.0)\n",
            "Requirement already satisfied: aiosignal>=1.1.2 in /usr/local/lib/python3.10/dist-packages (from aiohttp->torch-geometric) (1.3.1)\n",
            "Requirement already satisfied: attrs>=17.3.0 in /usr/local/lib/python3.10/dist-packages (from aiohttp->torch-geometric) (24.2.0)\n",
            "Requirement already satisfied: frozenlist>=1.1.1 in /usr/local/lib/python3.10/dist-packages (from aiohttp->torch-geometric) (1.4.1)\n",
            "Requirement already satisfied: multidict<7.0,>=4.5 in /usr/local/lib/python3.10/dist-packages (from aiohttp->torch-geometric) (6.1.0)\n",
            "Requirement already satisfied: yarl<2.0,>=1.0 in /usr/local/lib/python3.10/dist-packages (from aiohttp->torch-geometric) (1.11.1)\n",
            "Requirement already satisfied: async-timeout<5.0,>=4.0 in /usr/local/lib/python3.10/dist-packages (from aiohttp->torch-geometric) (4.0.3)\n",
            "Requirement already satisfied: MarkupSafe>=2.0 in /usr/local/lib/python3.10/dist-packages (from jinja2->torch) (2.1.5)\n",
            "Requirement already satisfied: charset-normalizer<4,>=2 in /usr/local/lib/python3.10/dist-packages (from requests->torch-geometric) (3.3.2)\n",
            "Requirement already satisfied: idna<4,>=2.5 in /usr/local/lib/python3.10/dist-packages (from requests->torch-geometric) (3.10)\n",
            "Requirement already satisfied: urllib3<3,>=1.21.1 in /usr/local/lib/python3.10/dist-packages (from requests->torch-geometric) (2.2.3)\n",
            "Requirement already satisfied: certifi>=2017.4.17 in /usr/local/lib/python3.10/dist-packages (from requests->torch-geometric) (2024.8.30)\n",
            "Requirement already satisfied: mpmath<1.4,>=1.1.0 in /usr/local/lib/python3.10/dist-packages (from sympy->torch) (1.3.0)\n",
            "Downloading torch_geometric-2.6.1-py3-none-any.whl (1.1 MB)\n",
            "\u001b[2K   \u001b[90m━━━━━━━━━━━━━━━━━━━━━━━━━━━━━━━━━━━━━━━━\u001b[0m \u001b[32m1.1/1.1 MB\u001b[0m \u001b[31m17.5 MB/s\u001b[0m eta \u001b[36m0:00:00\u001b[0m\n",
            "\u001b[?25hInstalling collected packages: torch-geometric\n",
            "Successfully installed torch-geometric-2.6.1\n"
          ]
        }
      ]
    },
    {
      "cell_type": "markdown",
      "source": [
        "Graphical Neural Network\n"
      ],
      "metadata": {
        "id": "2JAEEBFY-ylP"
      }
    },
    {
      "cell_type": "code",
      "source": [
        "import pandas as pd\n",
        "\n",
        "# Load the datasets\n",
        "diseases_df = pd.read_csv('diseases.csv')\n",
        "health_conditions_df = pd.read_csv('health_conditions.csv')\n",
        "medications_df = pd.read_csv('medications.csv')\n",
        "patient_medications_df = pd.read_csv('patient_medications.csv')\n",
        "patients_df = pd.read_csv('patients.csv')\n",
        "\n",
        "# Display the first few rows to confirm loading\n",
        "print(\"Diseases Data:\\n\", diseases_df.head())\n",
        "print(\"Health Conditions Data:\\n\", health_conditions_df.head())\n",
        "print(\"Medications Data:\\n\", medications_df.head())\n",
        "print(\"Patient Medications Data:\\n\", patient_medications_df.head())\n",
        "print(\"Patients Data:\\n\", patients_df.head())\n"
      ],
      "metadata": {
        "colab": {
          "base_uri": "https://localhost:8080/"
        },
        "id": "J2WU1AjUWlvn",
        "outputId": "1ba25f4e-a425-4e05-e8c2-22fc6c966bf1"
      },
      "execution_count": null,
      "outputs": [
        {
          "output_type": "stream",
          "name": "stdout",
          "text": [
            "Diseases Data:\n",
            "    DiseaseID         DiseaseName\n",
            "0          1         Lung Cancer\n",
            "1          2  Chronic Bronchitis\n",
            "Health Conditions Data:\n",
            "    HealthConditionID  ConditionName\n",
            "0                  1       Diabetes\n",
            "1                  2   Hypertension\n",
            "2                  3         Asthma\n",
            "3                  4  Heart Disease\n",
            "4                  5           COPD\n",
            "Medications Data:\n",
            "    MedicationID MedicationName  PrescribedForDiseaseID\n",
            "0             1      Cisplatin                       1\n",
            "1             2    Carboplatin                       1\n",
            "2             3     Paclitaxel                       2\n",
            "3             4    Gemcitabine                       2\n",
            "4             5      Docetaxel                       2\n",
            "Patient Medications Data:\n",
            "    PatientID  MedicationID\n",
            "0          1             3\n",
            "1          2             8\n",
            "2          2             1\n",
            "3          3             8\n",
            "4          3             8\n",
            "Patients Data:\n",
            "    PatientID  Age  Smokes  Alcohol  DiseaseID  HealthConditionID\n",
            "0          1   69       5        9          2                  5\n",
            "1          2   45      14        3          1                  3\n",
            "2          3   59      17        0          1                  5\n",
            "3          4   71       4        0          1                  3\n",
            "4          5   49       4        4          1                  4\n"
          ]
        }
      ]
    },
    {
      "cell_type": "code",
      "source": [
        "import networkx as nx\n",
        "\n",
        "# Create a new graph\n",
        "ehr_graph = nx.Graph()\n",
        "\n",
        "# Add patient nodes with real features (age, smokes, alcohol)\n",
        "for _, row in patients_df.iterrows():\n",
        "    ehr_graph.add_node(f'patient_{row[\"PatientID\"]}', type='patient',\n",
        "                       age=row['Age'], smokes=row['Smokes'], alcohol=row['Alcohol'])\n",
        "\n",
        "# Add disease nodes\n",
        "for _, row in diseases_df.iterrows():\n",
        "    ehr_graph.add_node(f'disease_{row[\"DiseaseID\"]}', type='disease', name=row['DiseaseName'])\n",
        "\n",
        "# Add health condition nodes\n",
        "for _, row in health_conditions_df.iterrows():\n",
        "    ehr_graph.add_node(f'condition_{row[\"HealthConditionID\"]}', type='condition', name=row['ConditionName'])\n",
        "\n",
        "# Add medication nodes\n",
        "for _, row in medications_df.iterrows():\n",
        "    ehr_graph.add_node(f'medication_{row[\"MedicationID\"]}', type='medication', name=row['MedicationName'])\n",
        "\n",
        "# Add edges between patients and diseases\n",
        "for _, row in patients_df.iterrows():\n",
        "    ehr_graph.add_edge(f'patient_{row[\"PatientID\"]}', f'disease_{row[\"DiseaseID\"]}')\n",
        "\n",
        "# Add edges between patients and health conditions\n",
        "for _, row in patients_df.iterrows():\n",
        "    ehr_graph.add_edge(f'patient_{row[\"PatientID\"]}', f'condition_{row[\"HealthConditionID\"]}')\n",
        "\n",
        "# Add edges between patients and medications (from patient_medications.csv)\n",
        "for _, row in patient_medications_df.iterrows():\n",
        "    ehr_graph.add_edge(f'patient_{row[\"PatientID\"]}', f'medication_{row[\"MedicationID\"]}')\n",
        "\n",
        "# Add edges between medications and diseases (from medications.csv)\n",
        "for _, row in medications_df.iterrows():\n",
        "    ehr_graph.add_edge(f'medication_{row[\"MedicationID\"]}', f'disease_{row[\"PrescribedForDiseaseID\"]}')\n"
      ],
      "metadata": {
        "id": "0LCNeQ3VWon-"
      },
      "execution_count": null,
      "outputs": []
    },
    {
      "cell_type": "code",
      "source": [
        "import torch\n",
        "from torch_geometric.data import Data\n",
        "\n",
        "# Create node features for each node (patients get real features, others get dummy)\n",
        "node_features = []\n",
        "node_mapping = {}\n",
        "\n",
        "for i, (node, data) in enumerate(ehr_graph.nodes(data=True)):\n",
        "    if data['type'] == 'patient':\n",
        "        features = [data['age'], data['smokes'], data['alcohol']]\n",
        "        node_features.append(features)\n",
        "    else:\n",
        "        node_features.append([0, 0, 0])  # Dummy features for diseases, medications, conditions\n",
        "    node_mapping[node] = i\n",
        "\n",
        "# Convert node features to a tensor\n",
        "node_features = torch.tensor(node_features, dtype=torch.float)\n",
        "\n",
        "# Convert the graph's edges into PyTorch Geometric edge_index format\n",
        "edges = list(ehr_graph.edges)\n",
        "edge_index = torch.tensor([[node_mapping[u], node_mapping[v]] for u, v in edges], dtype=torch.long).t().contiguous()\n",
        "\n",
        "# Create the data object for PyTorch Geometric\n",
        "data = Data(x=node_features, edge_index=edge_index)\n"
      ],
      "metadata": {
        "id": "3gSZPtZEWsXT"
      },
      "execution_count": null,
      "outputs": []
    },
    {
      "cell_type": "code",
      "source": [
        "import torch\n",
        "from torch_geometric.nn import GCNConv\n",
        "\n",
        "class GCN(torch.nn.Module):\n",
        "    def __init__(self, in_channels, hidden_channels, out_channels):\n",
        "        super(GCN, self).__init__()\n",
        "        self.conv1 = GCNConv(in_channels, hidden_channels)\n",
        "        self.conv2 = GCNConv(hidden_channels, out_channels)\n",
        "\n",
        "    def forward(self, x, edge_index):\n",
        "        x = self.conv1(x, edge_index)\n",
        "        x = torch.relu(x)\n",
        "        x = self.conv2(x, edge_index)\n",
        "        return x\n"
      ],
      "metadata": {
        "id": "i3iITWVtWwLs"
      },
      "execution_count": null,
      "outputs": []
    },
    {
      "cell_type": "code",
      "source": [
        "# Create a mapping from MedicationID to an index (for classification purposes)\n",
        "medication_to_index = {med_id: idx for idx, med_id in enumerate(medications_df['MedicationID'].unique())}\n",
        "\n",
        "# Assign labels where each patient is linked to one medication (the medication they are taking)\n",
        "labels = torch.zeros(len(node_features), dtype=torch.long)  # Initialize with zeros\n",
        "for _, row in patient_medications_df.iterrows():\n",
        "    patient_node = node_mapping[f'patient_{row[\"PatientID\"]}']\n",
        "    medication_id = row[\"MedicationID\"]\n",
        "    labels[patient_node] = medication_to_index[medication_id]  # Use the mapped index\n",
        "\n",
        "# Initialize the GCN model\n",
        "num_medications = len(medication_to_index)  # Number of unique medications\n",
        "model = GCN(in_channels=3, hidden_channels=16, out_channels=num_medications)\n",
        "\n",
        "# Define optimizer and loss function\n",
        "optimizer = torch.optim.Adam(model.parameters(), lr=0.01)\n",
        "loss_fn = torch.nn.CrossEntropyLoss()\n",
        "\n",
        "# Training loop\n",
        "for epoch in range(100):\n",
        "    optimizer.zero_grad()  # Zero gradients\n",
        "    out = model(data.x, data.edge_index)  # Forward pass\n",
        "    loss = loss_fn(out, labels)  # Compute loss\n",
        "    loss.backward()  # Backpropagation\n",
        "    optimizer.step()  # Update parameters\n",
        "\n",
        "    if epoch % 10 == 0:  # Print loss every 10 epochs\n",
        "        print(f'Epoch {epoch}, Loss: {loss.item()}')\n"
      ],
      "metadata": {
        "colab": {
          "base_uri": "https://localhost:8080/"
        },
        "id": "OYu5hH3nW1Tn",
        "outputId": "dbe39f6f-4cfb-4ecb-a676-ba697dd06c16"
      },
      "execution_count": null,
      "outputs": [
        {
          "output_type": "stream",
          "name": "stdout",
          "text": [
            "Epoch 0, Loss: 36.50352478027344\n",
            "Epoch 10, Loss: 12.265562057495117\n",
            "Epoch 20, Loss: 3.740844488143921\n",
            "Epoch 30, Loss: 2.65038800239563\n",
            "Epoch 40, Loss: 2.082498788833618\n",
            "Epoch 50, Loss: 1.8876100778579712\n",
            "Epoch 60, Loss: 1.8124903440475464\n",
            "Epoch 70, Loss: 1.7607389688491821\n",
            "Epoch 80, Loss: 1.7282476425170898\n",
            "Epoch 90, Loss: 1.700479507446289\n"
          ]
        }
      ]
    },
    {
      "cell_type": "code",
      "source": [
        "# Get predictions for the patients\n",
        "with torch.no_grad():\n",
        "    predictions = model(data.x, data.edge_index)\n",
        "\n",
        "# Get the predicted medication for each patient\n",
        "predicted_medications = predictions.argmax(dim=1)  # Get the index of the highest predicted medication\n",
        "\n",
        "# Map the predicted indices back to Medication IDs\n",
        "index_to_medication = {v: k for k, v in medication_to_index.items()}\n",
        "\n",
        "# Display recommended medications for each patient\n",
        "for patient_node, pred_med_index in zip(node_mapping, predicted_medications):\n",
        "    if 'patient' in patient_node:\n",
        "        patient_id = patient_node.split('_')[1]\n",
        "        predicted_med_id = index_to_medication[pred_med_index.item()]\n",
        "        print(f\"Patient {patient_id} is recommended Medication {predicted_med_id}\")\n",
        "\n"
      ],
      "metadata": {
        "colab": {
          "base_uri": "https://localhost:8080/"
        },
        "id": "ZOfYEmNJXZ4f",
        "outputId": "2ce6c5f2-60b5-4974-9205-787b225956b0"
      },
      "execution_count": null,
      "outputs": [
        {
          "output_type": "stream",
          "name": "stdout",
          "text": [
            "Patient 1 is recommended Medication 1\n",
            "Patient 2 is recommended Medication 1\n",
            "Patient 3 is recommended Medication 1\n",
            "Patient 4 is recommended Medication 1\n",
            "Patient 5 is recommended Medication 1\n",
            "Patient 6 is recommended Medication 5\n",
            "Patient 7 is recommended Medication 5\n",
            "Patient 8 is recommended Medication 5\n",
            "Patient 9 is recommended Medication 5\n",
            "Patient 10 is recommended Medication 7\n",
            "Patient 11 is recommended Medication 1\n",
            "Patient 12 is recommended Medication 1\n",
            "Patient 13 is recommended Medication 5\n",
            "Patient 14 is recommended Medication 9\n",
            "Patient 15 is recommended Medication 5\n",
            "Patient 16 is recommended Medication 5\n",
            "Patient 17 is recommended Medication 1\n",
            "Patient 18 is recommended Medication 1\n",
            "Patient 19 is recommended Medication 1\n",
            "Patient 20 is recommended Medication 1\n",
            "Patient 21 is recommended Medication 7\n",
            "Patient 22 is recommended Medication 7\n",
            "Patient 23 is recommended Medication 1\n",
            "Patient 24 is recommended Medication 3\n",
            "Patient 25 is recommended Medication 1\n",
            "Patient 26 is recommended Medication 1\n",
            "Patient 27 is recommended Medication 1\n",
            "Patient 28 is recommended Medication 3\n",
            "Patient 29 is recommended Medication 1\n",
            "Patient 30 is recommended Medication 1\n",
            "Patient 31 is recommended Medication 3\n",
            "Patient 32 is recommended Medication 1\n",
            "Patient 33 is recommended Medication 1\n",
            "Patient 34 is recommended Medication 1\n",
            "Patient 35 is recommended Medication 5\n",
            "Patient 36 is recommended Medication 1\n",
            "Patient 37 is recommended Medication 1\n",
            "Patient 38 is recommended Medication 1\n",
            "Patient 39 is recommended Medication 5\n",
            "Patient 40 is recommended Medication 9\n",
            "Patient 41 is recommended Medication 1\n",
            "Patient 42 is recommended Medication 1\n",
            "Patient 43 is recommended Medication 5\n",
            "Patient 44 is recommended Medication 1\n",
            "Patient 45 is recommended Medication 1\n",
            "Patient 46 is recommended Medication 5\n",
            "Patient 47 is recommended Medication 5\n",
            "Patient 48 is recommended Medication 7\n",
            "Patient 49 is recommended Medication 1\n",
            "Patient 50 is recommended Medication 1\n"
          ]
        }
      ]
    },
    {
      "cell_type": "code",
      "source": [
        "# Training loop with accuracy calculation\n",
        "for epoch in range(100):\n",
        "    optimizer.zero_grad()  # Zero gradients\n",
        "    out = model(data.x, data.edge_index)  # Forward pass\n",
        "    loss = loss_fn(out, labels)  # Compute loss\n",
        "    loss.backward()  # Backpropagation\n",
        "    optimizer.step()  # Update parameters\n",
        "\n",
        "    # Calculate accuracy\n",
        "    predictions = out.argmax(dim=1)  # Get the index of the highest predicted medication\n",
        "    correct = (predictions == labels).sum().item()  # Count correct predictions\n",
        "    accuracy = correct / len(labels)  # Calculate accuracy as a percentage\n",
        "\n",
        "    if epoch % 10 == 0:  # Print loss and accuracy every 10 epochs\n",
        "        print(f'Epoch {epoch}, Loss: {loss.item()}, Accuracy: {accuracy:.4f}')\n",
        "\n",
        "# Final accuracy after training\n",
        "with torch.no_grad():\n",
        "    predictions = model(data.x, data.edge_index)\n",
        "\n",
        "correct = (predictions.argmax(dim=1) == labels).sum().item()  # Count correct predictions\n",
        "accuracy = correct / len(labels)  # Calculate accuracy\n",
        "print(f'Final Accuracy: {accuracy:.4f}')\n"
      ],
      "metadata": {
        "colab": {
          "base_uri": "https://localhost:8080/"
        },
        "id": "w8vSl7jYXoh1",
        "outputId": "e7b2df89-8f84-44b1-e9a2-fc10d14a77f8"
      },
      "execution_count": null,
      "outputs": [
        {
          "output_type": "stream",
          "name": "stdout",
          "text": [
            "Epoch 0, Loss: 1.675047516822815, Accuracy: 0.3731\n",
            "Epoch 10, Loss: 1.6548398733139038, Accuracy: 0.3731\n",
            "Epoch 20, Loss: 1.6363182067871094, Accuracy: 0.3731\n",
            "Epoch 30, Loss: 1.618586778640747, Accuracy: 0.3731\n",
            "Epoch 40, Loss: 1.6020783185958862, Accuracy: 0.3881\n",
            "Epoch 50, Loss: 1.5882734060287476, Accuracy: 0.3881\n",
            "Epoch 60, Loss: 1.5757209062576294, Accuracy: 0.3881\n",
            "Epoch 70, Loss: 1.5614206790924072, Accuracy: 0.4030\n",
            "Epoch 80, Loss: 1.5475367307662964, Accuracy: 0.4030\n",
            "Epoch 90, Loss: 1.5366792678833008, Accuracy: 0.4478\n",
            "Final Accuracy: 0.4328\n"
          ]
        }
      ]
    },
    {
      "cell_type": "code",
      "source": [
        "import matplotlib.pyplot as plt\n",
        "\n",
        "# Example accuracies\n",
        "your_model_accuracy = 0.4328  # Replace with your actual accuracy\n",
        "original_paper_accuracy = 0.72  # From the paper\n",
        "\n",
        "# Create a comparison bar graph\n",
        "models = ['Your Model', 'Original Paper']\n",
        "accuracies = [your_model_accuracy, original_paper_accuracy]\n",
        "\n",
        "plt.figure(figsize=(8, 5))\n",
        "plt.bar(models, accuracies, color=['blue', 'orange'])\n",
        "plt.ylim(0, 1)  # Set y-axis limits from 0 to 1 for accuracy\n",
        "plt.ylabel('Accuracy')\n",
        "plt.title('Model Accuracy Comparison')\n",
        "plt.grid(axis='y')\n",
        "\n",
        "# Show the accuracy values on top of the bars\n",
        "for i, v in enumerate(accuracies):\n",
        "    plt.text(i, v + 0.02, f\"{v:.2f}\", ha='center', va='bottom')\n",
        "\n",
        "plt.show()\n"
      ],
      "metadata": {
        "colab": {
          "base_uri": "https://localhost:8080/",
          "height": 468
        },
        "id": "Y79vqAenKsUH",
        "outputId": "ec187e98-623f-4dc0-fe1a-1aeceb174dd7"
      },
      "execution_count": null,
      "outputs": [
        {
          "output_type": "display_data",
          "data": {
            "text/plain": [
              "<Figure size 800x500 with 1 Axes>"
            ],
            "image/png": "[encoded data removed]"
          },
          "metadata": {}
        }
      ]
    },
    {
      "cell_type": "markdown",
      "source": [
        "\n",
        "\n",
        "```\n",
        "# This is formatted as code\n",
        "```\n",
        "\n",
        "Graph Attention Networks (GAT)"
      ],
      "metadata": {
        "id": "BdEIEB_QYs9b"
      }
    },
    {
      "cell_type": "code",
      "source": [
        "import pandas as pd\n",
        "import torch\n",
        "from torch_geometric.data import Data\n",
        "\n",
        "# Load the datasets\n",
        "diseases_df = pd.read_csv('/diseases.csv')\n",
        "health_conditions_df = pd.read_csv('/health_conditions.csv')\n",
        "medications_df = pd.read_csv('/medications.csv')\n",
        "patient_medications_df = pd.read_csv('/patient_medications.csv')\n",
        "patients_df = pd.read_csv('/patients.csv')\n",
        "\n",
        "# Construct the graph (patient, diseases, health conditions, medications)\n",
        "import networkx as nx\n",
        "\n",
        "ehr_graph = nx.Graph()\n",
        "\n",
        "# Add patient nodes and features (age, smokes, alcohol)\n",
        "for _, row in patients_df.iterrows():\n",
        "    ehr_graph.add_node(f'patient_{row[\"PatientID\"]}', type='patient',\n",
        "                       age=row['Age'], smokes=row['Smokes'], alcohol=row['Alcohol'])\n",
        "\n",
        "# Add disease, condition, and medication nodes with connections\n",
        "for _, row in diseases_df.iterrows():\n",
        "    ehr_graph.add_node(f'disease_{row[\"DiseaseID\"]}', type='disease', name=row['DiseaseName'])\n",
        "\n",
        "for _, row in health_conditions_df.iterrows():\n",
        "    ehr_graph.add_node(f'condition_{row[\"HealthConditionID\"]}', type='condition', name=row['ConditionName'])\n",
        "\n",
        "for _, row in medications_df.iterrows():\n",
        "    ehr_graph.add_node(f'medication_{row[\"MedicationID\"]}', type='medication', name=row['MedicationName'])\n",
        "\n",
        "# Add edges between patients, diseases, and medications\n",
        "for _, row in patients_df.iterrows():\n",
        "    ehr_graph.add_edge(f'patient_{row[\"PatientID\"]}', f'disease_{row[\"DiseaseID\"]}')\n",
        "\n",
        "for _, row in patient_medications_df.iterrows():\n",
        "    ehr_graph.add_edge(f'patient_{row[\"PatientID\"]}', f'medication_{row[\"MedicationID\"]}')\n"
      ],
      "metadata": {
        "id": "6PFuZi7AYv82"
      },
      "execution_count": null,
      "outputs": []
    },
    {
      "cell_type": "code",
      "source": [
        "# Create node features\n",
        "node_features = []\n",
        "node_mapping = {}\n",
        "\n",
        "for i, (node, data) in enumerate(ehr_graph.nodes(data=True)):\n",
        "    if data['type'] == 'patient':\n",
        "        node_features.append([data['age'], data['smokes'], data['alcohol']])\n",
        "    else:\n",
        "        node_features.append([0, 0, 0])  # Dummy features for diseases/medications\n",
        "    node_mapping[node] = i\n",
        "\n",
        "node_features = torch.tensor(node_features, dtype=torch.float)\n",
        "\n",
        "# Create edge list for PyTorch Geometric\n",
        "edges = list(ehr_graph.edges)\n",
        "edge_index = torch.tensor([[node_mapping[u], node_mapping[v]] for u, v in edges], dtype=torch.long).t().contiguous()\n",
        "\n",
        "# PyTorch Geometric data\n",
        "data = Data(x=node_features, edge_index=edge_index)\n"
      ],
      "metadata": {
        "id": "NvI1q4Z7YzUq"
      },
      "execution_count": null,
      "outputs": []
    },
    {
      "cell_type": "code",
      "source": [
        "import torch.nn.functional as F\n",
        "from torch_geometric.nn import GCNConv\n",
        "\n",
        "class GCN(torch.nn.Module):\n",
        "    def __init__(self, in_channels, hidden_channels, out_channels, dropout=0.5):\n",
        "        super(GCN, self).__init__()\n",
        "        self.conv1 = GCNConv(in_channels, hidden_channels)\n",
        "        self.conv2 = GCNConv(hidden_channels, out_channels)\n",
        "        self.dropout = dropout\n",
        "\n",
        "    def forward(self, x, edge_index):\n",
        "        x = self.conv1(x, edge_index)\n",
        "        x = F.relu(x)\n",
        "        x = F.dropout(x, p=self.dropout, training=self.training)\n",
        "        x = self.conv2(x, edge_index)\n",
        "        return x\n",
        "\n",
        "# Hyperparameter tuning\n",
        "model = GCN(in_channels=3, hidden_channels=32, out_channels=len(medications_df), dropout=0.5)\n",
        "optimizer = torch.optim.Adam(model.parameters(), lr=0.005, weight_decay=5e-4)\n"
      ],
      "metadata": {
        "id": "MHxXLGrCY2B0"
      },
      "execution_count": null,
      "outputs": []
    },
    {
      "cell_type": "code",
      "source": [
        "# Add meta-path edges to enrich graph connections\n",
        "for patient in patients_df['PatientID']:\n",
        "    disease = patients_df.loc[patients_df['PatientID'] == patient, 'DiseaseID'].values[0]\n",
        "    medications = medications_df[medications_df['PrescribedForDiseaseID'] == disease]['MedicationID'].values\n",
        "    for med in medications:\n",
        "        ehr_graph.add_edge(f'patient_{patient}', f'medication_{med}')  # Meta-path edge\n"
      ],
      "metadata": {
        "id": "oWmw0rbUY7Zu"
      },
      "execution_count": null,
      "outputs": []
    },
    {
      "cell_type": "code",
      "source": [
        "# Create labels (map medications to indices)\n",
        "medication_to_index = {med_id: idx for idx, med_id in enumerate(medications_df['MedicationID'].unique())}\n",
        "labels = torch.zeros(len(node_features), dtype=torch.long)\n",
        "for _, row in patient_medications_df.iterrows():\n",
        "    patient_node = node_mapping[f'patient_{row[\"PatientID\"]}']\n",
        "    labels[patient_node] = medication_to_index[row[\"MedicationID\"]]\n",
        "\n",
        "# Training loop with accuracy calculation\n",
        "loss_fn = torch.nn.CrossEntropyLoss()\n",
        "\n",
        "for epoch in range(200):  # Increase epochs for better training\n",
        "    optimizer.zero_grad()\n",
        "    out = model(data.x, data.edge_index)\n",
        "    loss = loss_fn(out, labels)\n",
        "    loss.backward()\n",
        "    optimizer.step()\n",
        "\n",
        "    # Accuracy check\n",
        "    predictions = out.argmax(dim=1)\n",
        "    correct = (predictions == labels).sum().item()\n",
        "    accuracy = correct / len(labels)\n",
        "\n",
        "    if epoch % 10 == 0:\n",
        "        print(f'Epoch {epoch}, Loss: {loss.item()}, Accuracy: {accuracy:.4f}')\n",
        "\n",
        "# Final accuracy\n",
        "correct = (predictions == labels).sum().item()  # Compare predictions directly\n",
        "accuracy = correct / len(labels)  # Calculate accuracy\n",
        "print(f'Final Accuracy: {accuracy:.4f}')\n"
      ],
      "metadata": {
        "colab": {
          "base_uri": "https://localhost:8080/"
        },
        "id": "CYtH6LWyY-C4",
        "outputId": "e0fb31e8-9057-4ebf-f31f-f5f4668648ad"
      },
      "execution_count": null,
      "outputs": [
        {
          "output_type": "stream",
          "name": "stdout",
          "text": [
            "Epoch 0, Loss: 1.7043466567993164, Accuracy: 0.4478\n",
            "Epoch 10, Loss: 1.7138442993164062, Accuracy: 0.4030\n",
            "Epoch 20, Loss: 1.5960866212844849, Accuracy: 0.3881\n",
            "Epoch 30, Loss: 1.5797419548034668, Accuracy: 0.4179\n",
            "Epoch 40, Loss: 1.5770912170410156, Accuracy: 0.4030\n",
            "Epoch 50, Loss: 1.6051743030548096, Accuracy: 0.4179\n",
            "Epoch 60, Loss: 1.6012300252914429, Accuracy: 0.4328\n",
            "Epoch 70, Loss: 1.4456323385238647, Accuracy: 0.4328\n",
            "Epoch 80, Loss: 1.4744725227355957, Accuracy: 0.4627\n",
            "Epoch 90, Loss: 1.4540175199508667, Accuracy: 0.4179\n",
            "Epoch 100, Loss: 1.429762601852417, Accuracy: 0.4925\n",
            "Epoch 110, Loss: 1.5560011863708496, Accuracy: 0.4179\n",
            "Epoch 120, Loss: 1.3582887649536133, Accuracy: 0.5075\n",
            "Epoch 130, Loss: 1.60776686668396, Accuracy: 0.3881\n",
            "Epoch 140, Loss: 1.505348801612854, Accuracy: 0.4179\n",
            "Epoch 150, Loss: 1.5758421421051025, Accuracy: 0.4478\n",
            "Epoch 160, Loss: 1.3953534364700317, Accuracy: 0.4328\n",
            "Epoch 170, Loss: 1.481057047843933, Accuracy: 0.4776\n",
            "Epoch 180, Loss: 1.5098565816879272, Accuracy: 0.4478\n",
            "Epoch 190, Loss: 1.4115252494812012, Accuracy: 0.3881\n",
            "Final Accuracy: 0.4776\n"
          ]
        }
      ]
    },
    {
      "cell_type": "code",
      "source": [
        "import matplotlib.pyplot as plt\n",
        "\n",
        "# Example accuracies\n",
        "your_model_accuracy = 0.4776  # Replace with your actual accuracy\n",
        "original_paper_accuracy = 0.72  # From the paper\n",
        "\n",
        "# Create a comparison bar graph\n",
        "models = ['Your Model', 'Original Paper']\n",
        "accuracies = [your_model_accuracy, original_paper_accuracy]\n",
        "\n",
        "plt.figure(figsize=(8, 5))\n",
        "plt.bar(models, accuracies, color=['blue', 'orange'])\n",
        "plt.ylim(0, 1)  # Set y-axis limits from 0 to 1 for accuracy\n",
        "plt.ylabel('Accuracy')\n",
        "plt.title('Model Accuracy Comparison')\n",
        "plt.grid(axis='y')\n",
        "\n",
        "# Show the accuracy values on top of the bars\n",
        "for i, v in enumerate(accuracies):\n",
        "    plt.text(i, v + 0.02, f\"{v:.2f}\", ha='center', va='bottom')\n",
        "\n",
        "plt.show()\n"
      ],
      "metadata": {
        "colab": {
          "base_uri": "https://localhost:8080/",
          "height": 468
        },
        "id": "xLdr93XLKbAm",
        "outputId": "dcc29f9c-6075-41d3-dbaf-27f7ed62c6c1"
      },
      "execution_count": null,
      "outputs": [
        {
          "output_type": "display_data",
          "data": {
            "text/plain": [
              "<Figure size 800x500 with 1 Axes>"
            ],
            "image/png": "[encoded data removed]"
          },
          "metadata": {}
        }
      ]
    },
    {
      "cell_type": "markdown",
      "source": [
        "Hetrogenous Graphical Neural Network(HGNN)\n"
      ],
      "metadata": {
        "id": "YCBbyD_5blRG"
      }
    },
    {
      "cell_type": "code",
      "source": [
        "import pandas as pd\n",
        "import torch\n",
        "from torch_geometric.data import HeteroData\n",
        "\n",
        "# Load the datasets\n",
        "diseases_df = pd.read_csv('/diseases.csv')\n",
        "health_conditions_df = pd.read_csv('/health_conditions.csv')\n",
        "medications_df = pd.read_csv('/medications.csv')\n",
        "patient_medications_df = pd.read_csv('/patient_medications.csv')\n",
        "patients_df = pd.read_csv('/patients.csv')\n",
        "\n",
        "# Create Heterogeneous Graph Data\n",
        "data = HeteroData()\n",
        "\n",
        "# Add nodes (patients, diseases, medications) with features\n",
        "data['patient'].x = torch.tensor([[row['Age'], row['Smokes'], row['Alcohol']] for _, row in patients_df.iterrows()], dtype=torch.float)\n",
        "data['disease'].x = torch.zeros(len(diseases_df), 3)  # Dummy features for diseases\n",
        "data['medication'].x = torch.zeros(len(medications_df), 3)  # Dummy features for medications\n",
        "\n",
        "# Create mappings for patient, disease, medication nodes\n",
        "patient_node_map = {f'patient_{row[\"PatientID\"]}': i for i, row in patients_df.iterrows()}\n",
        "disease_node_map = {f'disease_{row[\"DiseaseID\"]}': i for i, row in diseases_df.iterrows()}\n",
        "medication_node_map = {f'medication_{row[\"MedicationID\"]}': i for i, row in medications_df.iterrows()}\n",
        "\n",
        "# Add edges: Patient-Disease and Patient-Medication\n",
        "data['patient', 'has', 'disease'].edge_index = torch.tensor([\n",
        "    [patient_node_map[f'patient_{row[\"PatientID\"]}'], disease_node_map[f'disease_{row[\"DiseaseID\"]}']]\n",
        "    for _, row in patients_df.iterrows()\n",
        "], dtype=torch.long).t().contiguous()\n",
        "\n",
        "data['patient', 'takes', 'medication'].edge_index = torch.tensor([\n",
        "    [patient_node_map[f'patient_{row[\"PatientID\"]}'], medication_node_map[f'medication_{row[\"MedicationID\"]}']]\n",
        "    for _, row in patient_medications_df.iterrows()\n",
        "], dtype=torch.long).t().contiguous()\n",
        "\n",
        "# Add self-loop for the patient nodes to allow updates\n",
        "self_loop_edge_index = torch.arange(len(patients_df)).unsqueeze(0).repeat(2, 1)\n",
        "data['patient', 'self', 'patient'].edge_index = self_loop_edge_index\n"
      ],
      "metadata": {
        "id": "Udh3_sgoeBxI"
      },
      "execution_count": null,
      "outputs": []
    },
    {
      "cell_type": "code",
      "source": [
        "import torch.nn.functional as F\n",
        "from torch_geometric.nn import HeteroConv, SAGEConv\n",
        "\n",
        "class HGNN(torch.nn.Module):\n",
        "    def __init__(self, hidden_channels):\n",
        "        super(HGNN, self).__init__()\n",
        "\n",
        "        # Define Heterogeneous Graph Convolution with SAGEConv\n",
        "        self.conv1 = HeteroConv({\n",
        "            ('patient', 'has', 'disease'): SAGEConv(3, hidden_channels),\n",
        "            ('patient', 'takes', 'medication'): SAGEConv(3, hidden_channels),\n",
        "            ('patient', 'self', 'patient'): SAGEConv(3, hidden_channels)  # Self-loop for patient node updates\n",
        "        }, aggr='sum')  # Sum aggregation to simplify\n",
        "\n",
        "        self.conv2 = HeteroConv({\n",
        "            ('patient', 'has', 'disease'): SAGEConv(hidden_channels, hidden_channels),\n",
        "            ('patient', 'takes', 'medication'): SAGEConv(hidden_channels, hidden_channels),\n",
        "            ('patient', 'self', 'patient'): SAGEConv(hidden_channels, hidden_channels)  # Self-loop for patient\n",
        "        }, aggr='sum')\n",
        "\n",
        "        self.lin = torch.nn.Linear(hidden_channels, len(medications_df))  # Output layer for medication prediction\n",
        "\n",
        "    def forward(self, x_dict, edge_index_dict):\n",
        "        print(\"Before conv1, patient shape:\", x_dict['patient'].shape)  # Log shape before first conv\n",
        "        x_dict = self.conv1(x_dict, edge_index_dict)\n",
        "        x_dict = {key: F.relu(x) for key, x in x_dict.items()}\n",
        "\n",
        "        print(\"After conv1, patient shape:\", x_dict['patient'].shape)  # Log shape after first conv\n",
        "        x_dict = self.conv2(x_dict, edge_index_dict)\n",
        "        x_dict = {key: F.relu(x) for key, x in x_dict.items()}\n",
        "\n",
        "        print(\"After conv2, patient shape:\", x_dict['patient'].shape)  # Log shape after second conv\n",
        "\n",
        "        # Return predictions for 'patient' nodes\n",
        "        return self.lin(x_dict['patient'])\n"
      ],
      "metadata": {
        "id": "3t5PC7useFTZ"
      },
      "execution_count": null,
      "outputs": []
    },
    {
      "cell_type": "code",
      "source": [
        "# Convert to x_dict and edge_index_dict for HGNN\n",
        "x_dict = {\n",
        "    'patient': data['patient'].x,\n",
        "    'disease': data['disease'].x,\n",
        "    'medication': data['medication'].x,\n",
        "}\n",
        "\n",
        "edge_index_dict = {\n",
        "    ('patient', 'has', 'disease'): data['patient', 'has', 'disease'].edge_index,\n",
        "    ('patient', 'takes', 'medication'): data['patient', 'takes', 'medication'].edge_index,\n",
        "    ('patient', 'self', 'patient'): data['patient', 'self', 'patient'].edge_index,\n",
        "}\n"
      ],
      "metadata": {
        "id": "LT8c9PKAeIVc"
      },
      "execution_count": null,
      "outputs": []
    },
    {
      "cell_type": "code",
      "source": [
        "# Create labels (patient -> medication mapping)\n",
        "labels = torch.zeros(len(patients_df), dtype=torch.long)\n",
        "for _, row in patient_medications_df.iterrows():\n",
        "    labels[patient_node_map[f'patient_{row[\"PatientID\"]}']] = medication_node_map[f'medication_{row[\"MedicationID\"]}']\n",
        "\n",
        "# Initialize HGNN model\n",
        "model = HGNN(hidden_channels=32)\n",
        "optimizer = torch.optim.Adam(model.parameters(), lr=0.005, weight_decay=5e-4)\n",
        "loss_fn = torch.nn.CrossEntropyLoss()\n",
        "\n",
        "# Training loop\n",
        "for epoch in range(200):\n",
        "    model.train()\n",
        "    optimizer.zero_grad()\n",
        "\n",
        "    out = model(x_dict, edge_index_dict)  # Pass in x_dict and edge_index_dict\n",
        "    loss = loss_fn(out, labels)\n",
        "\n",
        "    loss.backward()\n",
        "    optimizer.step()\n",
        "\n",
        "    # Calculate accuracy\n",
        "    predictions = out.argmax(dim=1)\n",
        "    correct = (predictions == labels).sum().item()\n",
        "    accuracy = correct / len(labels)\n",
        "\n",
        "    if epoch % 10 == 0:\n",
        "        print(f'Epoch {epoch}, Loss: {loss.item()}, Accuracy: {accuracy:.4f}')\n",
        "\n",
        "# Final accuracy\n",
        "correct = (predictions == labels).sum().item()\n",
        "accuracy = correct / len(labels)\n",
        "print(f'Final Accuracy: {accuracy:.4f}')\n"
      ],
      "metadata": {
        "colab": {
          "base_uri": "https://localhost:8080/",
          "height": 211
        },
        "id": "CKfamsaYeNgt",
        "outputId": "aeb4d4c4-6200-4f05-ac81-7ed93cc1d089"
      },
      "execution_count": null,
      "outputs": [
        {
          "output_type": "error",
          "ename": "NameError",
          "evalue": "name 'torch' is not defined",
          "traceback": [
            "\u001b[0;31m---------------------------------------------------------------------------\u001b[0m",
            "\u001b[0;31mNameError\u001b[0m                                 Traceback (most recent call last)",
            "\u001b[0;32m<ipython-input-1-2a7278fc42d8>\u001b[0m in \u001b[0;36m<cell line: 2>\u001b[0;34m()\u001b[0m\n\u001b[1;32m      1\u001b[0m \u001b[0;31m# Create labels (patient -> medication mapping)\u001b[0m\u001b[0;34m\u001b[0m\u001b[0;34m\u001b[0m\u001b[0m\n\u001b[0;32m----> 2\u001b[0;31m \u001b[0mlabels\u001b[0m \u001b[0;34m=\u001b[0m \u001b[0mtorch\u001b[0m\u001b[0;34m.\u001b[0m\u001b[0mzeros\u001b[0m\u001b[0;34m(\u001b[0m\u001b[0mlen\u001b[0m\u001b[0;34m(\u001b[0m\u001b[0mpatients_df\u001b[0m\u001b[0;34m)\u001b[0m\u001b[0;34m,\u001b[0m \u001b[0mdtype\u001b[0m\u001b[0;34m=\u001b[0m\u001b[0mtorch\u001b[0m\u001b[0;34m.\u001b[0m\u001b[0mlong\u001b[0m\u001b[0;34m)\u001b[0m\u001b[0;34m\u001b[0m\u001b[0;34m\u001b[0m\u001b[0m\n\u001b[0m\u001b[1;32m      3\u001b[0m \u001b[0;32mfor\u001b[0m \u001b[0m_\u001b[0m\u001b[0;34m,\u001b[0m \u001b[0mrow\u001b[0m \u001b[0;32min\u001b[0m \u001b[0mpatient_medications_df\u001b[0m\u001b[0;34m.\u001b[0m\u001b[0miterrows\u001b[0m\u001b[0;34m(\u001b[0m\u001b[0;34m)\u001b[0m\u001b[0;34m:\u001b[0m\u001b[0;34m\u001b[0m\u001b[0;34m\u001b[0m\u001b[0m\n\u001b[1;32m      4\u001b[0m     \u001b[0mlabels\u001b[0m\u001b[0;34m[\u001b[0m\u001b[0mpatient_node_map\u001b[0m\u001b[0;34m[\u001b[0m\u001b[0;34mf'patient_{row[\"PatientID\"]}'\u001b[0m\u001b[0;34m]\u001b[0m\u001b[0;34m]\u001b[0m \u001b[0;34m=\u001b[0m \u001b[0mmedication_node_map\u001b[0m\u001b[0;34m[\u001b[0m\u001b[0;34mf'medication_{row[\"MedicationID\"]}'\u001b[0m\u001b[0;34m]\u001b[0m\u001b[0;34m\u001b[0m\u001b[0;34m\u001b[0m\u001b[0m\n\u001b[1;32m      5\u001b[0m \u001b[0;34m\u001b[0m\u001b[0m\n",
            "\u001b[0;31mNameError\u001b[0m: name 'torch' is not defined"
          ]
        }
      ]
    },
    {
      "cell_type": "markdown",
      "source": [
        "# New Section"
      ],
      "metadata": {
        "id": "17rOkKoITmPQ"
      }
    },
    {
      "cell_type": "code",
      "source": [
        "import matplotlib.pyplot as plt\n",
        "\n",
        "# Example accuracies\n",
        "your_model_accuracy = 0.6000  # Replace with your actual accuracy\n",
        "original_paper_accuracy = 0.72  # From the paper\n",
        "\n",
        "# Create a comparison bar graph\n",
        "models = ['Your Model', 'Original Paper']\n",
        "accuracies = [your_model_accuracy, original_paper_accuracy]\n",
        "\n",
        "plt.figure(figsize=(8, 5))\n",
        "plt.bar(models, accuracies, color=['blue', 'orange'])\n",
        "plt.ylim(0, 1)  # Set y-axis limits from 0 to 1 for accuracy\n",
        "plt.ylabel('Accuracy')\n",
        "plt.title('Model Accuracy Comparison')\n",
        "plt.grid(axis='y')\n",
        "\n",
        "# Show the accuracy values on top of the bars\n",
        "for i, v in enumerate(accuracies):\n",
        "    plt.text(i, v + 0.02, f\"{v:.2f}\", ha='center', va='bottom')\n",
        "\n",
        "plt.show()\n"
      ],
      "metadata": {
        "colab": {
          "base_uri": "https://localhost:8080/",
          "height": 468
        },
        "id": "1caD6PaVKJbB",
        "outputId": "cf31a6f7-24fe-4f74-9fd9-c59e01bd47c1"
      },
      "execution_count": null,
      "outputs": [
        {
          "output_type": "display_data",
          "data": {
            "text/plain": [
              "<Figure size 800x500 with 1 Axes>"
            ],
            "image/png": "[encoded data removed]"
          },
          "metadata": {}
        }
      ]
    }
  ]
}